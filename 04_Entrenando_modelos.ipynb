{
 "cells": [
  {
   "cell_type": "code",
   "execution_count": null,
   "metadata": {
    "id": "nc933oNCW-Pi"
   },
   "outputs": [],
   "source": []
  },
  {
   "cell_type": "markdown",
   "metadata": {
    "id": "apcl7M3BXKOP"
   },
   "source": [
    "# Preparación"
   ]
  },
  {
   "cell_type": "code",
   "execution_count": 1,
   "metadata": {
    "id": "M031EJepXPcv"
   },
   "outputs": [],
   "source": [
    "# Python ≥3.5 is required\n",
    "import sys\n",
    "assert sys.version_info >= (3, 5)\n",
    "\n",
    "# Scikit-Learn ≥0.20 is required\n",
    "import sklearn\n",
    "assert sklearn.__version__ >= \"0.20\"\n",
    "\n",
    "# Common imports\n",
    "import numpy as np\n",
    "import os\n",
    "\n",
    "# to make this notebook's output stable across runs\n",
    "np.random.seed(42)\n",
    "\n",
    "# To plot pretty figures\n",
    "%matplotlib inline\n",
    "import matplotlib as mpl\n",
    "import matplotlib.pyplot as plt\n",
    "mpl.rc('axes', labelsize=14)\n",
    "mpl.rc('xtick', labelsize=12)\n",
    "mpl.rc('ytick', labelsize=12)\n",
    "\n",
    "# Where to save the figures\n",
    "PROJECT_ROOT_DIR = \".\"\n",
    "CHAPTER_ID = \"training_linear_models\"\n",
    "IMAGES_PATH = os.path.join(PROJECT_ROOT_DIR, \"images\", CHAPTER_ID)\n",
    "os.makedirs(IMAGES_PATH, exist_ok=True)\n",
    "\n",
    "def save_fig(fig_id, tight_layout=True, fig_extension=\"png\", resolution=300):\n",
    "    path = os.path.join(IMAGES_PATH, fig_id + \".\" + fig_extension)\n",
    "    print(\"Saving figure\", fig_id)\n",
    "    if tight_layout:\n",
    "        plt.tight_layout()\n",
    "    plt.savefig(path, format=fig_extension, dpi=resolution)"
   ]
  },
  {
   "cell_type": "markdown",
   "metadata": {
    "id": "2d8nz-8NaFtE"
   },
   "source": [
    "# Regresión lineal"
   ]
  },
  {
   "cell_type": "markdown",
   "metadata": {
    "id": "5rCjL1p3aKgu"
   },
   "source": [
    "Lo que vamos a ver es como se realiza \"a mano\" el entrenamiento de un modelo lineal. En realidad el problema se reduce a minimizar el error de las ecuaciones probando diversos parámetros."
   ]
  },
  {
   "cell_type": "markdown",
   "metadata": {
    "id": "eTYZAZIeb788"
   },
   "source": [
    "## La ecuación normal"
   ]
  },
  {
   "cell_type": "markdown",
   "metadata": {
    "id": "pzs7a-mMaj-q"
   },
   "source": [
    "Esta es la ecuación normal que permite obtener el valor $\\hat\\theta$ que minimiza el coste la misma.  \n",
    "$\\hat{\\theta} = (X^{T}X)^{-1}Xy$"
   ]
  },
  {
   "cell_type": "code",
   "execution_count": 2,
   "metadata": {
    "id": "tR_8dZHpcPZC"
   },
   "outputs": [],
   "source": [
    "# Vamos a generar algunos datos con apariencia lineal para probar la función\n",
    "import numpy as np\n",
    "X = 2 * np.random.rand(100,1)\n",
    "y = 4 + 3 * X + np.random.randn(100,1)"
   ]
  },
  {
   "cell_type": "code",
   "execution_count": 3,
   "metadata": {
    "colab": {
     "base_uri": "https://localhost:8080/",
     "height": 315
    },
    "id": "cXqx90s5cwme",
    "outputId": "2a632139-13b0-4466-8cbe-addbbd5761a6"
   },
   "outputs": [
    {
     "name": "stdout",
     "output_type": "stream",
     "text": [
      "Saving figure generated_data_plot\n"
     ]
    },
    {
     "data": {
      "image/png": "[encoded data removed]",
      "text/plain": [
       "<Figure size 432x288 with 1 Axes>"
      ]
     },
     "metadata": {
      "needs_background": "light"
     },
     "output_type": "display_data"
    }
   ],
   "source": [
    "# Representamos en la distribución\n",
    "plt.plot(X, y, \"b.\")\n",
    "plt.xlabel(\"$x_1$\", fontsize=18)\n",
    "plt.ylabel(\"$y$\", rotation=0, fontsize=18)\n",
    "plt.axis([0, 2, 0, 15])\n",
    "save_fig(\"generated_data_plot\")\n",
    "plt.show()"
   ]
  },
  {
   "cell_type": "markdown",
   "metadata": {
    "id": "a4Zxk2lDgHkL"
   },
   "source": [
    "Antes de calcular la ecuación normal hay que incluir en el vector X una columna de unos que representa el término independiente (*bias*)"
   ]
  },
  {
   "cell_type": "code",
   "execution_count": null,
   "metadata": {},
   "outputs": [],
   "source": [
    "2*6"
   ]
  },
  {
   "cell_type": "code",
   "execution_count": 4,
   "metadata": {
    "id": "OMN2BCQKgYSz"
   },
   "outputs": [],
   "source": [
    "X_b = np.c_[np.ones((100,1)),X]"
   ]
  },
  {
   "cell_type": "code",
   "execution_count": 5,
   "metadata": {
    "colab": {
     "base_uri": "https://localhost:8080/"
    },
    "id": "2_DxGd_Sg92F",
    "outputId": "eabd4e9e-6c4e-4535-cc46-11918b3d3c7d"
   },
   "outputs": [
    {
     "data": {
      "text/plain": [
       "array([[4.21509616],\n",
       "       [2.77011339]])"
      ]
     },
     "execution_count": 5,
     "metadata": {},
     "output_type": "execute_result"
    }
   ],
   "source": [
    "# Ahora hacemos el cálculo de la ecuación normal propiamente dicha\n",
    "theta_best = np.linalg.inv(X_b.T.dot(X_b)).dot(X_b.T).dot(y)\n",
    "theta_best"
   ]
  },
  {
   "cell_type": "markdown",
   "metadata": {
    "id": "toq8X9qFhgzE"
   },
   "source": [
    "Si recordamos como hemos formado los valores\n",
    "\n",
    "\n",
    "```\n",
    "y = 4 + 3 * X + np.random.randn(100,1)\n",
    "```\n",
    "\n",
    "Deberíamos haber obtenido los valores $\\theta_0=4$ y $\\theta_1=3$, en su lugar hemos obtenido  $\\theta_0=4.2150961$ y $\\theta_1=2.77011339$ que están bastante cerca de los valores correctos pero que no son iguales, debido al ruido introducido por:\n",
    "\n",
    "\n",
    "```\n",
    "np.random.randn(100,1)\n",
    "```\n",
    "\n",
    "Con esta ecuación podemos hacer predicciones\n",
    "\n",
    "\n",
    "\n"
   ]
  },
  {
   "cell_type": "code",
   "execution_count": 6,
   "metadata": {
    "colab": {
     "base_uri": "https://localhost:8080/"
    },
    "id": "9RzG45YtiXiQ",
    "outputId": "de525a4d-9574-4613-ac83-65f6a624d2c2"
   },
   "outputs": [
    {
     "data": {
      "text/plain": [
       "(array([[0],\n",
       "        [2]]),\n",
       " array([[1., 0.],\n",
       "        [1., 2.]]))"
      ]
     },
     "execution_count": 6,
     "metadata": {},
     "output_type": "execute_result"
    }
   ],
   "source": [
    "X_new = np.array([[0], [2]])\n",
    "X_new_b = np.c_[np.ones((2,1)), X_new]\n",
    "X_new, X_new_b"
   ]
  },
  {
   "cell_type": "code",
   "execution_count": 7,
   "metadata": {
    "colab": {
     "base_uri": "https://localhost:8080/"
    },
    "id": "P1lStibyi6pa",
    "outputId": "ee7d1134-3627-4a48-f576-94342f5778b9"
   },
   "outputs": [
    {
     "data": {
      "text/plain": [
       "array([[4.21509616],\n",
       "       [9.75532293]])"
      ]
     },
     "execution_count": 7,
     "metadata": {},
     "output_type": "execute_result"
    }
   ],
   "source": [
    "y_predict = X_new_b.dot(theta_best)\n",
    "y_predict"
   ]
  },
  {
   "cell_type": "code",
   "execution_count": 8,
   "metadata": {
    "colab": {
     "base_uri": "https://localhost:8080/",
     "height": 315
    },
    "id": "u2nzj0DBjQ1V",
    "outputId": "8048162b-7400-46e2-dc0c-a50fafc70cd0"
   },
   "outputs": [
    {
     "name": "stdout",
     "output_type": "stream",
     "text": [
      "Saving figure linear_model_predictions_plot\n"
     ]
    },
    {
     "data": {
      "image/png": "[encoded data removed]",
      "text/plain": [
       "<Figure size 432x288 with 1 Axes>"
      ]
     },
     "metadata": {
      "needs_background": "light"
     },
     "output_type": "display_data"
    }
   ],
   "source": [
    "# Pintamos la recta obtenida por theta_best y la distribución de puntos original\n",
    "plt.plot(X_new, y_predict, \"r-\", linewidth=2, label=\"Predictions\")\n",
    "plt.plot(X, y, \"b.\")\n",
    "plt.xlabel(\"$x_1$\", fontsize=18)\n",
    "plt.ylabel(\"$y$\", rotation=0, fontsize=18)\n",
    "plt.legend(loc=\"upper left\", fontsize=14)\n",
    "plt.axis([0, 2, 0, 15])\n",
    "save_fig(\"linear_model_predictions_plot\")\n",
    "plt.show()"
   ]
  },
  {
   "cell_type": "markdown",
   "metadata": {
    "id": "rRqCCF1pDDlN"
   },
   "source": [
    "## Complejidad computacional\n",
    "Conforme el número de atributos aumenta la complejidad computacional lo hace también y en ocasiones de manera expectacular.\n",
    "Por eso en ocasiones se utilizan otras maneras de entrenar para la regresión lineal, como veremos en el siguiente capítulo."
   ]
  },
  {
   "cell_type": "markdown",
   "metadata": {
    "id": "RlyOjzG9Dz1W"
   },
   "source": [
    "# Descenso del gradiente"
   ]
  },
  {
   "cell_type": "markdown",
   "metadata": {
    "id": "abpBvtiHD5D3"
   },
   "source": [
    "La base del descenso del gradiente es el estudio de la pendiente un punto aleatorio de la función de coste, tratamos de hallar el mínimo de esa función calculando tras un pequeño aumento o desceso de los valores de $\\theta$ el nuevo  valor de  la pendiente, cuando sea cero habremos llegado al mínimio. El  tamaño de ese pequeño paso se llama tasa o ritmo de aprendizaje (*learning rate*).  \n",
    "Hay varias consideraciones a tener en cuenta cuando se hace uso de este método. La primera es elegir una tasa de apredizaje del tamaño adecuado y la segunda es que los atributos estén normalizados.  \n",
    "Si las tasa es muy pequeña o los atributos no están normalizados podemos tardar mucho en encontrar el mínimo, si es que lo hacemos. Si la tasa es demasiado grande corremos el peligro de ir saltando por la fución sin llegar el mínimo buscado."
   ]
  },
  {
   "cell_type": "markdown",
   "metadata": {
    "id": "2jh4JJg4GPZ8"
   },
   "source": [
    "### Descenso del gradiente en lote"
   ]
  },
  {
   "cell_type": "markdown",
   "metadata": {
    "id": "p43S3XolG8ge"
   },
   "source": [
    "Sabemos que la pendiente de una función en un punto viene dada por la derivada parcial para la función en ese punto, luego variando los coeficentes y calculando la derivada en ese punto de la función de coste nos podemos aproximar progresivamente al pendiente cero que indicará su mínimo.  \n",
    "Podemos ir calculando una a una esas derivadas parciales una a una  \n",
    "$\\frac{d}{d\\theta_j} MSE(\\theta) = \\frac{2}{m} \\sum_{i=1}^{m}(\\theta^{T} x^{i} - y^{i}) x_j^{i}$   \n",
    "O hacerlo de golpe con la calculando el vector de gradiente  \n",
    "$\\triangledown MSE(\\theta) = \\frac{2}{m} X^T(X^\\theta-y)$  \n",
    "En este caso de cáculo de golpe (en lote) usamos resoluciones matriciales como hacíamos con la equación normal más arriba.\n"
   ]
  },
  {
   "cell_type": "code",
   "execution_count": 9,
   "metadata": {
    "id": "YL2Lq-coJ_pK"
   },
   "outputs": [],
   "source": [
    "eta = 0.1 # learning rate\n",
    "n_iterations = 1000\n",
    "m = 100\n",
    "\n",
    "theta = np.random.randn(2,1) # random initialization\n",
    "\n",
    "for iteration in range(n_iterations):\n",
    "  gradients = 2/m * X_b.T.dot(X_b.dot(theta) -y)\n",
    "  theta = theta - eta * gradients"
   ]
  },
  {
   "cell_type": "code",
   "execution_count": 10,
   "metadata": {
    "colab": {
     "base_uri": "https://localhost:8080/"
    },
    "id": "nkIOnHLiK4HC",
    "outputId": "16ca5caf-e5fe-4d6d-d982-efb61077bbf1"
   },
   "outputs": [
    {
     "data": {
      "text/plain": [
       "array([[4.21509616],\n",
       "       [2.77011339]])"
      ]
     },
     "execution_count": 10,
     "metadata": {},
     "output_type": "execute_result"
    }
   ],
   "source": [
    "theta"
   ]
  },
  {
   "cell_type": "markdown",
   "metadata": {
    "id": "BmzTUe5eLDcy"
   },
   "source": [
    "Como vemos llegamos a un resultado similar al de la ecuación normal"
   ]
  },
  {
   "cell_type": "markdown",
   "metadata": {
    "id": "OMSpC_31LIw-"
   },
   "source": [
    "### Descenso del gradiente estocástico"
   ]
  },
  {
   "cell_type": "markdown",
   "metadata": {
    "id": "BlSBHjV1LOFu"
   },
   "source": [
    "El problema que tiene la variente en lote es que en cada iteración hace uso de todo el conjunto de los datos de entrenamiento. Si en lugar de eso lo que hacemos en cada paso es elegir aleatoriamente un valor del conjunto de entrenamiento el algoritmo irá más rápido."
   ]
  },
  {
   "cell_type": "code",
   "execution_count": 11,
   "metadata": {
    "id": "5KkY-JX3LzpP"
   },
   "outputs": [],
   "source": [
    "n_epochs = 50\n",
    "t0, t1 = 5, 50 # learning schedule hyperparameters\n",
    "def learning_schedule(t):\n",
    "  return t0 / (t + t1)\n",
    "\n",
    "theta = np.random.randn(2,1) # random initialization\n",
    "for epoch in range(n_epochs):\n",
    "  for i in range(m):\n",
    "    random_index = np.random.randint(m)\n",
    "    xi = X_b[random_index:random_index+1]\n",
    "    yi = y[random_index:random_index+1]\n",
    "    gradients = 2 * xi.T.dot(xi.dot(theta) - yi)\n",
    "    eta = learning_schedule(epoch * m + i)\n",
    "    theta = theta - eta * gradients"
   ]
  },
  {
   "cell_type": "code",
   "execution_count": 12,
   "metadata": {
    "colab": {
     "base_uri": "https://localhost:8080/"
    },
    "id": "fqrc47SnL_7G",
    "outputId": "0af6a0fc-c94f-488a-bfed-396d9afb3811"
   },
   "outputs": [
    {
     "data": {
      "text/plain": [
       "array([[4.18475289],\n",
       "       [2.73036719]])"
      ]
     },
     "execution_count": 12,
     "metadata": {},
     "output_type": "execute_result"
    }
   ],
   "source": [
    "theta"
   ]
  },
  {
   "cell_type": "markdown",
   "metadata": {
    "id": "qxjJRcL3MP9t"
   },
   "source": [
    "Tenemos el estimador [SGDRegressor](https://scikit-learn.org/stable/modules/generated/sklearn.linear_model.SGDRegressor.html) que hace uso del gradiente estocástico"
   ]
  },
  {
   "cell_type": "code",
   "execution_count": 13,
   "metadata": {
    "colab": {
     "base_uri": "https://localhost:8080/"
    },
    "id": "u8XFOKCeMjCN",
    "outputId": "66dd3aa6-87e3-40c1-dae4-0251454e53c9"
   },
   "outputs": [
    {
     "data": {
      "text/plain": [
       "SGDRegressor(eta0=0.1, penalty=None)"
      ]
     },
     "execution_count": 13,
     "metadata": {},
     "output_type": "execute_result"
    }
   ],
   "source": [
    "from sklearn.linear_model import SGDRegressor\n",
    "sgd_reg = SGDRegressor(max_iter=1000, tol=1e-3, penalty=None, eta0=0.1)\n",
    "sgd_reg.fit(X, y.ravel())"
   ]
  },
  {
   "cell_type": "code",
   "execution_count": 14,
   "metadata": {
    "colab": {
     "base_uri": "https://localhost:8080/"
    },
    "id": "djrexPbHMpb2",
    "outputId": "7134d782-78d8-4208-dbe5-cbe56f337936"
   },
   "outputs": [
    {
     "data": {
      "text/plain": [
       "(array([4.22609703]), array([2.79227913]))"
      ]
     },
     "execution_count": 14,
     "metadata": {},
     "output_type": "execute_result"
    }
   ],
   "source": [
    "sgd_reg.intercept_, sgd_reg.coef_"
   ]
  },
  {
   "cell_type": "markdown",
   "metadata": {
    "id": "fnCWoWNdNCp-"
   },
   "source": [
    "### Descenso del gradiente en minilote"
   ]
  },
  {
   "cell_type": "markdown",
   "metadata": {
    "id": "TG86RHLDNGsi"
   },
   "source": [
    "Como su nombre hace sospechar es un compromiso entre los dos anteriores. Por un lado no usa todo el conjunto de entrenamiento en cada pasa, sino un pequeño subconjunto (minilote) en lugar de un solo elemento como hacía el estocástico."
   ]
  },
  {
   "cell_type": "code",
   "execution_count": null,
   "metadata": {
    "id": "8oj2pAPRNalP"
   },
   "outputs": [],
   "source": []
  },
  {
   "cell_type": "markdown",
   "metadata": {
    "id": "F8w7HMGOtvPt"
   },
   "source": [
    "# Regresión polinominal\n",
    "Hasta ahora hemos visto la regresión calculada como la ecuación que proporciona una recta que se ajusta a los valores. Pero puede darse el caso de que la recta no sea representativa de los datos que queremos aproximar."
   ]
  },
  {
   "cell_type": "code",
   "execution_count": 15,
   "metadata": {
    "id": "3Gko4B-mujkG"
   },
   "outputs": [],
   "source": [
    "import numpy as np\n",
    "import numpy.random as rnd\n",
    "\n",
    "np.random.seed(42)"
   ]
  },
  {
   "cell_type": "code",
   "execution_count": 16,
   "metadata": {
    "id": "3mdh-5f0ulRx"
   },
   "outputs": [],
   "source": [
    "# Imaginemos que nuestros datos se adaptan aproximadamente a una curva\n",
    "m = 100\n",
    "X = 6 * np.random.rand(m, 1) - 3 # De esta manera nos aseguramos que estos números aleatorios están entre -3 y 3\n",
    "y = 0.5 * X**2 + X + 2 + np.random.randn(m, 1)"
   ]
  },
  {
   "cell_type": "code",
   "execution_count": 17,
   "metadata": {
    "colab": {
     "base_uri": "https://localhost:8080/",
     "height": 315
    },
    "id": "WCB5LMt6uwtZ",
    "outputId": "2e9c9985-b196-4e50-d6f8-ed5b3632be11"
   },
   "outputs": [
    {
     "name": "stdout",
     "output_type": "stream",
     "text": [
      "Saving figure quadratic_data_plot\n"
     ]
    },
    {
     "data": {
      "image/png": "[encoded data removed]",
      "text/plain": [
       "<Figure size 432x288 with 1 Axes>"
      ]
     },
     "metadata": {
      "needs_background": "light"
     },
     "output_type": "display_data"
    }
   ],
   "source": [
    "plt.plot(X, y, \"b.\")\n",
    "plt.xlabel(\"$x_1$\", fontsize=18)\n",
    "plt.ylabel(\"$y$\", rotation=0, fontsize=18)\n",
    "plt.axis([-3, 3, 0, 10])\n",
    "save_fig(\"quadratic_data_plot\")\n",
    "plt.show()"
   ]
  },
  {
   "cell_type": "markdown",
   "metadata": {
    "id": "kx2W9_RVv_nb"
   },
   "source": [
    "Es evidente que una línea no podrá aproximar de ninguna manera la curva que trazan nuestros datos. Vamos a añadir al conjunto de entrenamiento $X$ una nueva carácterística $X^2$. Y haremos que un modelo lineal se entrene con esas dos entradas para que calcule la curva."
   ]
  },
  {
   "cell_type": "code",
   "execution_count": 18,
   "metadata": {
    "colab": {
     "base_uri": "https://localhost:8080/"
    },
    "id": "C1V2YaXewm4Z",
    "outputId": "dd18b5c7-cf39-454b-ca9f-76e9b325193c"
   },
   "outputs": [
    {
     "data": {
      "text/plain": [
       "array([-0.75275929])"
      ]
     },
     "execution_count": 18,
     "metadata": {},
     "output_type": "execute_result"
    }
   ],
   "source": [
    "from sklearn.preprocessing import PolynomialFeatures\n",
    "poly_features = PolynomialFeatures(degree=2, include_bias=False)\n",
    "X_poly = poly_features.fit_transform(X)\n",
    "X[0]"
   ]
  },
  {
   "cell_type": "code",
   "execution_count": 19,
   "metadata": {
    "colab": {
     "base_uri": "https://localhost:8080/"
    },
    "id": "ZfsnCpu4wcBi",
    "outputId": "0e67544f-746a-43d8-eb21-0a3c3fd1c98b"
   },
   "outputs": [
    {
     "data": {
      "text/plain": [
       "array([-0.75275929,  0.56664654])"
      ]
     },
     "execution_count": 19,
     "metadata": {},
     "output_type": "execute_result"
    }
   ],
   "source": [
    "X_poly[0]"
   ]
  },
  {
   "cell_type": "code",
   "execution_count": 20,
   "metadata": {
    "colab": {
     "base_uri": "https://localhost:8080/"
    },
    "id": "_t_yQhNfwvgP",
    "outputId": "af01b068-9bb9-4a93-a82a-330f4dca32f0"
   },
   "outputs": [
    {
     "data": {
      "text/plain": [
       "0.566646548681304"
      ]
     },
     "execution_count": 20,
     "metadata": {},
     "output_type": "execute_result"
    }
   ],
   "source": [
    "(-0.75275929)**2"
   ]
  },
  {
   "cell_type": "code",
   "execution_count": 21,
   "metadata": {
    "colab": {
     "base_uri": "https://localhost:8080/"
    },
    "id": "o8Y2Ssy6w_g-",
    "outputId": "231aef51-ccf5-45be-eab5-4780225e8ddf"
   },
   "outputs": [
    {
     "data": {
      "text/plain": [
       "(array([1.78134581]), array([[0.93366893, 0.56456263]]))"
      ]
     },
     "execution_count": 21,
     "metadata": {},
     "output_type": "execute_result"
    }
   ],
   "source": [
    "# Hacemos uso de la regresión lineal\n",
    "from sklearn.linear_model import  LinearRegression\n",
    "lin_reg = LinearRegression()\n",
    "lin_reg.fit(X_poly, y)\n",
    "lin_reg.intercept_, lin_reg.coef_"
   ]
  },
  {
   "cell_type": "markdown",
   "metadata": {
    "id": "FpKaRMoSxee1"
   },
   "source": [
    "Si recordamos la ecuación original \n",
    "\n",
    "\n",
    "```\n",
    "y = 0.5 * X**2 + X + 2 + np.random.randn(m, 1)\n",
    "```\n",
    "Que se corresponde a: \n",
    "\n",
    "$y = 0.5x_1^2+1.0x_1+ 2.0+ (Ruido)$\n",
    "\n",
    "Ya hora miramos la ecuación predicha según\n",
    "\n",
    "```\n",
    "lin_reg.intercept_, lin_reg.coef_\n",
    "```\n",
    "\n",
    "Tenemos:\n",
    "\n",
    "$\\hat{y} = 0.56x_1^2+0.93x_1+1.78$\n",
    "\n",
    "\n",
    "Que es una aproximación bastante buena"
   ]
  },
  {
   "cell_type": "code",
   "execution_count": 22,
   "metadata": {
    "colab": {
     "base_uri": "https://localhost:8080/",
     "height": 315
    },
    "id": "nVzrcuBNyqXd",
    "outputId": "7736f5b5-ee16-48c6-eb70-9e07462192ed"
   },
   "outputs": [
    {
     "name": "stdout",
     "output_type": "stream",
     "text": [
      "Saving figure quadratic_predictions_plot\n"
     ]
    },
    {
     "data": {
      "image/png": "[encoded data removed]",
      "text/plain": [
       "<Figure size 432x288 with 1 Axes>"
      ]
     },
     "metadata": {
      "needs_background": "light"
     },
     "output_type": "display_data"
    }
   ],
   "source": [
    "X_new=np.linspace(-3, 3, 100).reshape(100, 1)\n",
    "X_new_poly = poly_features.transform(X_new)\n",
    "y_new = lin_reg.predict(X_new_poly)\n",
    "plt.plot(X, y, \"b.\")\n",
    "plt.plot(X_new, y_new, \"r-\", linewidth=2, label=\"Predictions\")\n",
    "plt.xlabel(\"$x_1$\", fontsize=18)\n",
    "plt.ylabel(\"$y$\", rotation=0, fontsize=18)\n",
    "plt.legend(loc=\"upper left\", fontsize=14)\n",
    "plt.axis([-3, 3, 0, 10])\n",
    "save_fig(\"quadratic_predictions_plot\")\n",
    "plt.show()"
   ]
  },
  {
   "cell_type": "markdown",
   "metadata": {
    "id": "G9jEzq96Z4Bt"
   },
   "source": [
    "Hay que reflexionar un momento sobre lo que hemos visto. El uso de [PolynomialFeatures](https://scikit-learn.org/stable/modules/generated/sklearn.preprocessing.PolynomialFeatures.html) hace que podamos ampliar las combinaciones de atributos en cualqueir conjunto de características. Como hemos visto el ejemplo con grado 2 al conjunto de carcterísticas original $[x]$ lo hemos transformado en $[x, x^2]$. Pero si usamos un grado superior como 3, un posible conjunto de características $[a,b]$ no solo se transforma en $[a,b,a^2, b^2, a^3, B^3]$ Si no que incluye también $[ab, a^2b, ab^2]$.\n",
    "\n",
    "De manera general un grado $d$ con $n$ características se tranforma en un vector con $\\frac{(n+d)!}{d!n!}$ hay que tener cuidado con el número de características que podemos generar por este métod."
   ]
  },
  {
   "cell_type": "markdown",
   "metadata": {
    "id": "6xsP8TLEbxX9"
   },
   "source": [
    "# Curvas de aprendizaje"
   ]
  },
  {
   "cell_type": "markdown",
   "metadata": {
    "id": "oT6PO5ODceMC"
   },
   "source": [
    "De manera generalizada una regresión polinomial encajará mejor los resutados de entrenamiento que una plano. Pero cuidado con el sobreajuste (*overfitting*) cuando usamos grados altos"
   ]
  },
  {
   "cell_type": "code",
   "execution_count": 23,
   "metadata": {
    "colab": {
     "base_uri": "https://localhost:8080/",
     "height": 315
    },
    "id": "nCMrX93Xczd9",
    "outputId": "4606c609-3da1-4565-ec24-1a8025dcfe6f"
   },
   "outputs": [
    {
     "name": "stdout",
     "output_type": "stream",
     "text": [
      "Saving figure high_degree_polynomials_plot\n"
     ]
    },
    {
     "data": {
      "image/png": "[encoded data removed]",
      "text/plain": [
       "<Figure size 432x288 with 1 Axes>"
      ]
     },
     "metadata": {
      "needs_background": "light"
     },
     "output_type": "display_data"
    }
   ],
   "source": [
    "from sklearn.preprocessing import StandardScaler\n",
    "from sklearn.pipeline import Pipeline\n",
    "\n",
    "for style, width, degree in ((\"g-\", 1, 300), (\"b--\", 2, 2), (\"r-+\", 2, 1)):\n",
    "    polybig_features = PolynomialFeatures(degree=degree, include_bias=False)\n",
    "    std_scaler = StandardScaler()\n",
    "    lin_reg = LinearRegression()\n",
    "    polynomial_regression = Pipeline([\n",
    "            (\"poly_features\", polybig_features),\n",
    "            (\"std_scaler\", std_scaler),\n",
    "            (\"lin_reg\", lin_reg),\n",
    "        ])\n",
    "    polynomial_regression.fit(X, y)\n",
    "    y_newbig = polynomial_regression.predict(X_new)\n",
    "    plt.plot(X_new, y_newbig, style, label=str(degree), linewidth=width)\n",
    "\n",
    "plt.plot(X, y, \"b.\", linewidth=3)\n",
    "plt.legend(loc=\"upper left\")\n",
    "plt.xlabel(\"$x_1$\", fontsize=18)\n",
    "plt.ylabel(\"$y$\", rotation=0, fontsize=18)\n",
    "plt.axis([-3, 3, 0, 10])\n",
    "save_fig(\"high_degree_polynomials_plot\")\n",
    "plt.show()"
   ]
  },
  {
   "cell_type": "markdown",
   "metadata": {
    "id": "4FyMFpz-c__r"
   },
   "source": [
    "Fijémonos que el polinomio de grado 300 se pasa ajustando sus valores a los de entrenamiento, mientras que el de grado 1 se pasa por debajo y el grado 2 es que mejor se adapta a los valores.\n",
    "\n",
    "Lógicamente ahora surge la pregunta ¿Cómo evito quedarme corto o pasarme (*underfitting or overfitting*) con mi modelo? Una parte de esa respuesta la dan las curvas de aprendizaje.\n"
   ]
  },
  {
   "cell_type": "code",
   "execution_count": null,
   "metadata": {
    "id": "Lca-hBLRdIPC"
   },
   "outputs": [],
   "source": []
  },
  {
   "cell_type": "markdown",
   "metadata": {
    "id": "MgB-EnmAdzjC"
   },
   "source": [
    "Las curvas de aprendizaje intentan mostrar gráficamente el desempeño del modelo en el conjunto de entrenamiento y en el de validación, dependiendo del tamaño de conjunto de entrenamiento."
   ]
  },
  {
   "cell_type": "code",
   "execution_count": 24,
   "metadata": {
    "id": "rRz8aMB4ef7c"
   },
   "outputs": [],
   "source": [
    "from sklearn.metrics import mean_squared_error\n",
    "from sklearn.model_selection import train_test_split\n",
    "\n",
    "def plot_learning_curves(model, X, y):\n",
    "    X_train, X_val, y_train, y_val = train_test_split(X, y, test_size=0.2, random_state=10)\n",
    "    train_errors, val_errors = [], []\n",
    "    for m in range(1, len(X_train)):\n",
    "        model.fit(X_train[:m], y_train[:m])\n",
    "        y_train_predict = model.predict(X_train[:m])\n",
    "        y_val_predict = model.predict(X_val)\n",
    "        train_errors.append(mean_squared_error(y_train[:m], y_train_predict))\n",
    "        val_errors.append(mean_squared_error(y_val, y_val_predict))\n",
    "\n",
    "    plt.plot(np.sqrt(train_errors), \"r-+\", linewidth=2, label=\"train\")\n",
    "    plt.plot(np.sqrt(val_errors), \"b-\", linewidth=3, label=\"val\")\n",
    "    plt.legend(loc=\"upper right\", fontsize=14)   # not shown in the book\n",
    "    plt.xlabel(\"Training set size\", fontsize=14) # not shown\n",
    "    plt.ylabel(\"RMSE\", fontsize=14)              # not shown"
   ]
  },
  {
   "cell_type": "code",
   "execution_count": 25,
   "metadata": {
    "colab": {
     "base_uri": "https://localhost:8080/",
     "height": 315
    },
    "id": "aEjTE65Aeh1d",
    "outputId": "b86c936d-6a16-42d8-d44c-10beb7937dfe"
   },
   "outputs": [
    {
     "name": "stdout",
     "output_type": "stream",
     "text": [
      "Saving figure underfitting_learning_curves_plot\n"
     ]
    },
    {
     "data": {
      "image/png": "[encoded data removed]",
      "text/plain": [
       "<Figure size 432x288 with 1 Axes>"
      ]
     },
     "metadata": {
      "needs_background": "light"
     },
     "output_type": "display_data"
    }
   ],
   "source": [
    "lin_reg = LinearRegression()\n",
    "plot_learning_curves(lin_reg, X, y)\n",
    "plt.axis([0, 80, 0, 3])                         # not shown in the book\n",
    "save_fig(\"underfitting_learning_curves_plot\")   # not shown\n",
    "plt.show()                                      # not shown"
   ]
  },
  {
   "cell_type": "markdown",
   "metadata": {
    "id": "2Jv-miZ4ey53"
   },
   "source": [
    "Vamos a interpretar brevement la curva que hemos obtenido. Por un lado vemos que cuando entrenamos con un conjunto muy pequeño el error que cometemos es pequeño también y el de validación grande Conforme esos valores aumentan ambos errores se aproximan.\n",
    "\n",
    "Dado que el tamaño de X es 100 y que la función sudivide en conjuntos de entrenamiento y validación de 80% y 20%. El tamaño máximo de un subconjunto de entrenamiento es 80, tal y como vemos en el gráfico.\n",
    "\n",
    "La función plot_learning_curves entrena 80 modelos (del 1 al 80) con los 80 posibles tamaños de entrenamiento (1 al 80) Y calcula el error medio (RMSE) en los conjuntos de entrenamiento y validación para cada modelo entrenado."
   ]
  },
  {
   "cell_type": "markdown",
   "metadata": {
    "id": "WOWj9w1Ggz5F"
   },
   "source": [
    "En realidad lo que vemos en el gráfico es que de manera muy rápida la diferencia de errores se estabiliza y aunque entremos con más datos la situación no mejora. Estamos en un caso de underfitting y posiblemente habría que cambiar de modelo."
   ]
  },
  {
   "cell_type": "code",
   "execution_count": 26,
   "metadata": {
    "colab": {
     "base_uri": "https://localhost:8080/",
     "height": 315
    },
    "id": "KzGCTCSVhKgo",
    "outputId": "e56edc37-7ae5-44e8-dbe5-d2a575cd7994"
   },
   "outputs": [
    {
     "name": "stdout",
     "output_type": "stream",
     "text": [
      "Saving figure learning_curves_plot\n"
     ]
    },
    {
     "data": {
      "image/png": "[encoded data removed]",
      "text/plain": [
       "<Figure size 432x288 with 1 Axes>"
      ]
     },
     "metadata": {
      "needs_background": "light"
     },
     "output_type": "display_data"
    }
   ],
   "source": [
    "from sklearn.pipeline import Pipeline\n",
    "\n",
    "polynomial_regression = Pipeline([\n",
    "        (\"poly_features\", PolynomialFeatures(degree=10, include_bias=False)),\n",
    "        (\"lin_reg\", LinearRegression()),\n",
    "    ])\n",
    "\n",
    "plot_learning_curves(polynomial_regression, X, y)\n",
    "plt.axis([0, 80, 0, 3])           # not shown\n",
    "save_fig(\"learning_curves_plot\")  # not shown\n",
    "plt.show()                        # not shown"
   ]
  },
  {
   "cell_type": "markdown",
   "metadata": {
    "id": "Hg7oEWQCh-TM"
   },
   "source": [
    "Este es un caso de Overfitting. Aunque el error es menor, el problema es que hemos trabajo con grados 10. El error de entrenamiento y validación aunque son menores están permanentemente separados y el entrenamiento es significativamente menor que el de validación.\n",
    "\n",
    "La manera de evitar un error de overffiting es incrementar el numero de elmentos en el conjunto de entrenamiento."
   ]
  },
  {
   "cell_type": "markdown",
   "metadata": {
    "id": "zV35VoVLi5E4"
   },
   "source": [
    "# Modelos lineales regularizados"
   ]
  },
  {
   "cell_type": "markdown",
   "metadata": {
    "id": "lploNOzujGr9"
   },
   "source": [
    "La mejor manera de evitar el overfitting de un modelo es regularizarlo, que en este contexto significa limitarlo. \n",
    "\n",
    "Si el modelo es de regresión polinómica la normalización se realiza disminuyendo el grado de los polinomios.\n",
    "\n",
    "Si es una regresión lineal la manera de normalizar es limitado los pesos, para lo que podemos usar diferentes estrategias"
   ]
  },
  {
   "cell_type": "markdown",
   "metadata": {
    "id": "_7kDHgwPxfhw"
   },
   "source": [
    "## Regresión de la cresta (*Ridge regression*)"
   ]
  },
  {
   "cell_type": "markdown",
   "metadata": {
    "id": "LO4eXVyAx6Ff"
   },
   "source": [
    "En este caso se trata de evitar que los pesos de los coeficientes calculados no sean muy grandes, haciendo que penalice ese tamaño en la función de coste. Que pasa a ser:\n",
    "\n",
    "$J(\\theta) = MSE(\\theta) + \\alpha \\frac{1}{2}\\sum_{i=1}^n \\theta_i^2$\n",
    "\n",
    "Es importante escalar los valores con [StandardScaler](https://scikit-learn.org/stable/modules/generated/sklearn.preprocessing.StandardScaler.html) antes de hacer uso de este tipo de métodos."
   ]
  },
  {
   "cell_type": "code",
   "execution_count": 27,
   "metadata": {
    "id": "-ao_DZRG13u0"
   },
   "outputs": [],
   "source": [
    "np.random.seed(42)\n",
    "m = 20\n",
    "X = 3 * np.random.rand(m, 1)\n",
    "y = 1 + 0.5 * X + np.random.randn(m, 1) / 1.5\n",
    "X_new = np.linspace(0, 3, 100).reshape(100, 1)"
   ]
  },
  {
   "cell_type": "code",
   "execution_count": 28,
   "metadata": {
    "colab": {
     "base_uri": "https://localhost:8080/"
    },
    "id": "oN4J9qVh14xg",
    "outputId": "402f7bfc-88c1-4c99-ee9f-22612acfb968"
   },
   "outputs": [
    {
     "data": {
      "text/plain": [
       "array([[1.55071465]])"
      ]
     },
     "execution_count": 28,
     "metadata": {},
     "output_type": "execute_result"
    }
   ],
   "source": [
    "from sklearn.linear_model import Ridge\n",
    "ridge_reg = Ridge(alpha=1, solver=\"cholesky\", random_state=42)\n",
    "ridge_reg.fit(X, y)\n",
    "ridge_reg.predict([[1.5]])"
   ]
  },
  {
   "cell_type": "code",
   "execution_count": 29,
   "metadata": {
    "colab": {
     "base_uri": "https://localhost:8080/",
     "height": 315
    },
    "id": "YWp_NUSC18GI",
    "outputId": "b2a511f1-00bf-445c-dd34-4624f4fcbfdd"
   },
   "outputs": [
    {
     "name": "stdout",
     "output_type": "stream",
     "text": [
      "Saving figure ridge_regression_plot\n"
     ]
    },
    {
     "data": {
      "image/png": "[encoded data removed]",
      "text/plain": [
       "<Figure size 576x288 with 2 Axes>"
      ]
     },
     "metadata": {
      "needs_background": "light"
     },
     "output_type": "display_data"
    }
   ],
   "source": [
    "from sklearn.linear_model import Ridge\n",
    "\n",
    "def plot_model(model_class, polynomial, alphas, **model_kargs):\n",
    "    for alpha, style in zip(alphas, (\"b-\", \"g--\", \"r:\")):\n",
    "        model = model_class(alpha, **model_kargs) if alpha > 0 else LinearRegression()\n",
    "        if polynomial:\n",
    "            model = Pipeline([\n",
    "                    (\"poly_features\", PolynomialFeatures(degree=10, include_bias=False)),\n",
    "                    (\"std_scaler\", StandardScaler()),\n",
    "                    (\"regul_reg\", model),\n",
    "                ])\n",
    "        model.fit(X, y)\n",
    "        y_new_regul = model.predict(X_new)\n",
    "        lw = 2 if alpha > 0 else 1\n",
    "        plt.plot(X_new, y_new_regul, style, linewidth=lw, label=r\"$\\alpha = {}$\".format(alpha))\n",
    "    plt.plot(X, y, \"b.\", linewidth=3)\n",
    "    plt.legend(loc=\"upper left\", fontsize=15)\n",
    "    plt.xlabel(\"$x_1$\", fontsize=18)\n",
    "    plt.axis([0, 3, 0, 4])\n",
    "\n",
    "plt.figure(figsize=(8,4))\n",
    "plt.subplot(121)\n",
    "plot_model(Ridge, polynomial=False, alphas=(0, 10, 100), random_state=42)\n",
    "plt.ylabel(\"$y$\", rotation=0, fontsize=18)\n",
    "plt.subplot(122)\n",
    "plot_model(Ridge, polynomial=True, alphas=(0, 10**-5, 1), random_state=42)\n",
    "\n",
    "save_fig(\"ridge_regression_plot\")\n",
    "plt.show()"
   ]
  },
  {
   "cell_type": "markdown",
   "metadata": {
    "id": "OVAzWWog2PB_"
   },
   "source": [
    "Se muestra en las imágenes un modelo lineal plano y otro polinómico con diferentes factores $\\alpha$ de ridge regression"
   ]
  },
  {
   "cell_type": "code",
   "execution_count": 30,
   "metadata": {
    "colab": {
     "base_uri": "https://localhost:8080/"
    },
    "id": "__dW9Ow_2xrO",
    "outputId": "7efdf234-4594-4339-cb4d-127387daa1f6"
   },
   "outputs": [
    {
     "data": {
      "text/plain": [
       "array([1.47012588])"
      ]
     },
     "execution_count": 30,
     "metadata": {},
     "output_type": "execute_result"
    }
   ],
   "source": [
    "sgd_reg = SGDRegressor(penalty=\"l2\", max_iter=1000, tol=1e-3, random_state=42)\n",
    "sgd_reg.fit(X, y.ravel())\n",
    "sgd_reg.predict([[1.5]])"
   ]
  },
  {
   "cell_type": "markdown",
   "metadata": {
    "id": "IoSwomd0xsjb"
   },
   "source": [
    "## Regresión Lasso"
   ]
  },
  {
   "cell_type": "markdown",
   "metadata": {
    "id": "Z7kNn8ab2-W7"
   },
   "source": [
    "Es muy parecido al caso anterior, pero en lugar de usar el cuadrado de los coeficientes en la penalización se usa el valor absoluto de los mismos.\n",
    "\n",
    "$J(\\theta) = MSE(\\theta) + \\alpha \\frac{1}{2}\\sum_{i=1}^n |\\theta_i|$"
   ]
  },
  {
   "cell_type": "code",
   "execution_count": 31,
   "metadata": {
    "colab": {
     "base_uri": "https://localhost:8080/",
     "height": 372
    },
    "id": "h9oI-dfT3Sku",
    "outputId": "a3d6f81e-96c4-405f-994d-e6b3b0f99c4c"
   },
   "outputs": [
    {
     "name": "stderr",
     "output_type": "stream",
     "text": [
      "C:\\Users\\Rafa\\anaconda3\\lib\\site-packages\\sklearn\\linear_model\\_coordinate_descent.py:529: ConvergenceWarning: Objective did not converge. You might want to increase the number of iterations. Duality gap: 2.8028677038274434, tolerance: 0.0009294783355207351\n",
      "  model = cd_fast.enet_coordinate_descent(\n"
     ]
    },
    {
     "name": "stdout",
     "output_type": "stream",
     "text": [
      "Saving figure lasso_regression_plot\n"
     ]
    },
    {
     "data": {
      "image/png": "[encoded data removed]",
      "text/plain": [
       "<Figure size 576x288 with 2 Axes>"
      ]
     },
     "metadata": {
      "needs_background": "light"
     },
     "output_type": "display_data"
    }
   ],
   "source": [
    "from sklearn.linear_model import Lasso\n",
    "\n",
    "plt.figure(figsize=(8,4))\n",
    "plt.subplot(121)\n",
    "plot_model(Lasso, polynomial=False, alphas=(0, 0.1, 1), random_state=42)\n",
    "plt.ylabel(\"$y$\", rotation=0, fontsize=18)\n",
    "plt.subplot(122)\n",
    "plot_model(Lasso, polynomial=True, alphas=(0, 10**-7, 1), random_state=42)\n",
    "\n",
    "save_fig(\"lasso_regression_plot\")\n",
    "plt.show()"
   ]
  },
  {
   "cell_type": "markdown",
   "metadata": {
    "id": "4v-BtA_L3pz4"
   },
   "source": [
    "El uso de Lasso tiende a eliminar los coeficientes de las características menos significativas haciéndolos cero."
   ]
  },
  {
   "cell_type": "markdown",
   "metadata": {
    "id": "ZhqJsdfFxweu"
   },
   "source": [
    "## Red elástica"
   ]
  },
  {
   "cell_type": "markdown",
   "metadata": {
    "id": "P5TTEu084X0g"
   },
   "source": [
    "Aquí tenemos un caso intermedio entre Lasso y Ridge, la función de coste incluye una penalización un poco más compleja.\n",
    "\n",
    "$J(\\theta) = MSE(\\theta) + r\\alpha \\frac{1}{2}\\sum_{i=1}^n |\\theta_i| + \\frac{1-r}{2}\\alpha\\sum_{i=1}^n \\theta_i^2 $\n",
    "\n",
    "Si $r=1$ tenemos una regresión Lasso y si $r=0$ tenemos una regresión Ridge"
   ]
  },
  {
   "cell_type": "code",
   "execution_count": 32,
   "metadata": {
    "colab": {
     "base_uri": "https://localhost:8080/"
    },
    "id": "iC1Cga8J5GQt",
    "outputId": "dc3716bc-3724-47f3-e6b0-5ad030817ace"
   },
   "outputs": [
    {
     "data": {
      "text/plain": [
       "array([1.54333232])"
      ]
     },
     "execution_count": 32,
     "metadata": {},
     "output_type": "execute_result"
    }
   ],
   "source": [
    "from sklearn.linear_model import ElasticNet\n",
    "elastic_net = ElasticNet(alpha=0.1, l1_ratio=0.5, random_state=42)\n",
    "elastic_net.fit(X, y)\n",
    "elastic_net.predict([[1.5]])"
   ]
  },
  {
   "cell_type": "markdown",
   "metadata": {
    "id": "QkpP1HhVx19j"
   },
   "source": [
    "## Detención temprana."
   ]
  },
  {
   "cell_type": "markdown",
   "metadata": {
    "id": "unYC2RIs5YYs"
   },
   "source": [
    "Aquí se trate de parar el entrenamiento cuando hemos llegado a un mínimo en el error."
   ]
  },
  {
   "cell_type": "code",
   "execution_count": 33,
   "metadata": {
    "id": "SMDN06Hv5oHA"
   },
   "outputs": [],
   "source": [
    "np.random.seed(42)\n",
    "m = 100\n",
    "X = 6 * np.random.rand(m, 1) - 3\n",
    "y = 2 + X + 0.5 * X**2 + np.random.randn(m, 1)\n",
    "\n",
    "X_train, X_val, y_train, y_val = train_test_split(X[:50], y[:50].ravel(), test_size=0.5, random_state=10)"
   ]
  },
  {
   "cell_type": "code",
   "execution_count": 34,
   "metadata": {
    "id": "YthI6qRR5ko9"
   },
   "outputs": [],
   "source": [
    "from copy import deepcopy\n",
    "\n",
    "poly_scaler = Pipeline([\n",
    "        (\"poly_features\", PolynomialFeatures(degree=90, include_bias=False)),\n",
    "        (\"std_scaler\", StandardScaler())\n",
    "    ])\n",
    "\n",
    "X_train_poly_scaled = poly_scaler.fit_transform(X_train)\n",
    "X_val_poly_scaled = poly_scaler.transform(X_val)\n",
    "\n",
    "sgd_reg = SGDRegressor(max_iter=1, tol=-np.infty, warm_start=True,\n",
    "                       penalty=None, learning_rate=\"constant\", eta0=0.0005, random_state=42)\n",
    "\n",
    "minimum_val_error = float(\"inf\")\n",
    "best_epoch = None\n",
    "best_model = None\n",
    "for epoch in range(1000):\n",
    "    sgd_reg.fit(X_train_poly_scaled, y_train)  # continues where it left off\n",
    "    y_val_predict = sgd_reg.predict(X_val_poly_scaled)\n",
    "    val_error = mean_squared_error(y_val, y_val_predict)\n",
    "    if val_error < minimum_val_error:\n",
    "        minimum_val_error = val_error\n",
    "        best_epoch = epoch\n",
    "        best_model = deepcopy(sgd_reg)"
   ]
  },
  {
   "cell_type": "code",
   "execution_count": 35,
   "metadata": {
    "colab": {
     "base_uri": "https://localhost:8080/",
     "height": 315
    },
    "id": "0rhYFbX-5sXQ",
    "outputId": "267c291f-04b4-422a-f79e-a82ec4b6cef2"
   },
   "outputs": [
    {
     "name": "stdout",
     "output_type": "stream",
     "text": [
      "Saving figure early_stopping_plot\n"
     ]
    },
    {
     "data": {
      "image/png": "[encoded data removed]",
      "text/plain": [
       "<Figure size 432x288 with 1 Axes>"
      ]
     },
     "metadata": {
      "needs_background": "light"
     },
     "output_type": "display_data"
    }
   ],
   "source": [
    "sgd_reg = SGDRegressor(max_iter=1, tol=-np.infty, warm_start=True,\n",
    "                       penalty=None, learning_rate=\"constant\", eta0=0.0005, random_state=42)\n",
    "\n",
    "n_epochs = 500\n",
    "train_errors, val_errors = [], []\n",
    "for epoch in range(n_epochs):\n",
    "    sgd_reg.fit(X_train_poly_scaled, y_train)\n",
    "    y_train_predict = sgd_reg.predict(X_train_poly_scaled)\n",
    "    y_val_predict = sgd_reg.predict(X_val_poly_scaled)\n",
    "    train_errors.append(mean_squared_error(y_train, y_train_predict))\n",
    "    val_errors.append(mean_squared_error(y_val, y_val_predict))\n",
    "\n",
    "best_epoch = np.argmin(val_errors)\n",
    "best_val_rmse = np.sqrt(val_errors[best_epoch])\n",
    "\n",
    "plt.annotate('Best model',\n",
    "             xy=(best_epoch, best_val_rmse),\n",
    "             xytext=(best_epoch, best_val_rmse + 1),\n",
    "             ha=\"center\",\n",
    "             arrowprops=dict(facecolor='black', shrink=0.05),\n",
    "             fontsize=16,\n",
    "            )\n",
    "\n",
    "best_val_rmse -= 0.03  # just to make the graph look better\n",
    "plt.plot([0, n_epochs], [best_val_rmse, best_val_rmse], \"k:\", linewidth=2)\n",
    "plt.plot(np.sqrt(val_errors), \"b-\", linewidth=3, label=\"Validation set\")\n",
    "plt.plot(np.sqrt(train_errors), \"r--\", linewidth=2, label=\"Training set\")\n",
    "plt.legend(loc=\"upper right\", fontsize=14)\n",
    "plt.xlabel(\"Epoch\", fontsize=14)\n",
    "plt.ylabel(\"RMSE\", fontsize=14)\n",
    "save_fig(\"early_stopping_plot\")\n",
    "plt.show()"
   ]
  }
 ],
 "metadata": {
  "colab": {
   "name": "04 Entrenando modelos.ipynb",
   "provenance": [],
   "toc_visible": true
  },
  "kernelspec": {
   "display_name": "Python 3",
   "language": "python",
   "name": "python3"
  },
  "language_info": {
   "codemirror_mode": {
    "name": "ipython",
    "version": 3
   },
   "file_extension": ".py",
   "mimetype": "text/x-python",
   "name": "python",
   "nbconvert_exporter": "python",
   "pygments_lexer": "ipython3",
   "version": "3.8.5"
  }
 },
 "nbformat": 4,
 "nbformat_minor": 1
}